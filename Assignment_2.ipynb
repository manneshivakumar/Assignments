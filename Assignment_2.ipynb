{
 "cells": [
  {
   "cell_type": "raw",
   "metadata": {},
   "source": [
    "# Task 1:\n",
    "\n",
    "#1.1 Write a Python Program to implement your own myreduce() function which works exactly like Python's built-in function"
   ]
  },
  {
   "cell_type": "code",
   "execution_count": 129,
   "metadata": {},
   "outputs": [
    {
     "name": "stdout",
     "output_type": "stream",
     "text": [
      "5040\n",
      "\n",
      "\n",
      "5040\n"
     ]
    }
   ],
   "source": [
    "##Code\n",
    "final_val = ''\n",
    "def my_reduce(my_fun, seq):\n",
    "    first = []\n",
    "    \n",
    "    x, y = seq[:2] # 0,1\n",
    "    final_val = my_fun(x, y)\n",
    "    \n",
    "    for i in seq[1:(len(seq)-1)]: #2,3,4,....\n",
    "        final_val = my_fun(final_val, seq[i])        \n",
    "    return(final_val)\n",
    "        \n",
    "def my_fun(a, b):\n",
    "    return a * b\n",
    "\n",
    "#Execution:\n",
    "\n",
    "#Test case 1\n",
    "# list of numbers\n",
    "seq = [1,2,3,4,5,6,7]        \n",
    "# result contains \n",
    "print(my_reduce(my_fun, seq))\n",
    "print('\\n')\n",
    "\n",
    "#Test case 2\n",
    "# list of numbers\n",
    "seq = [1,2,3,4,5,6,7]        \n",
    "# result contains \n",
    "print(my_reduce((lambda x, y: x * y), seq))"
   ]
  },
  {
   "cell_type": "raw",
   "metadata": {},
   "source": [
    "# 1.2 Write a Python program to implement your own myfilter() function which works exactly like Python's built-in function"
   ]
  },
  {
   "cell_type": "code",
   "execution_count": 130,
   "metadata": {},
   "outputs": [
    {
     "name": "stdout",
     "output_type": "stream",
     "text": [
      "a\n",
      "e\n",
      "i\n",
      "o\n",
      "\n",
      "1\n",
      "3\n",
      "5\n",
      "13\n",
      "\n",
      "1\n",
      "a\n",
      "True\n",
      "0\n"
     ]
    }
   ],
   "source": [
    "##Code\n",
    "def my_filter(my_fun, seq):\n",
    "    \n",
    "    if my_fun == None:\n",
    "        for i in seq:\n",
    "            if i != False:\n",
    "                print(i)  \n",
    "    else:\n",
    "        for alph in seq:\n",
    "            if my_fun(alph) == True:\n",
    "                print(alph)\n",
    "    \n",
    "def my_fun(alphabet):\n",
    "    vowels = ['a', 'e', 'i', 'o', 'u']\n",
    "\n",
    "    if(alphabet in vowels):\n",
    "        return True\n",
    "    else:\n",
    "        return False\n",
    "\n",
    "#Execution\n",
    "#Test case 1    \n",
    "# list of alphabets\n",
    "seq = ['a', 'b', 'd', 'e', 'i', 'j', 'o']\n",
    "# result contains vowels of the list \n",
    "result = my_filter(my_fun, seq)\n",
    "print()\n",
    "\n",
    "#Test case 2\n",
    "# a list contains both even and odd numbers.  \n",
    "seq = [1, 2, 3, 5, 8, 13] \n",
    "# result contains odd numbers of the list \n",
    "result = my_filter(lambda x: x % 2, seq) \n",
    "print()\n",
    "\n",
    "#Test case 3\n",
    "# a list contains number, string and boolean \n",
    "seq = [1, 'a', 0, False, True, '0']\n",
    "# result contains the list which are true:\n",
    "result = my_filter(None, seq)"
   ]
  },
  {
   "cell_type": "raw",
   "metadata": {},
   "source": [
    "# 2 Implement List comprehensions to produce the following lists.\n",
    "# output = ['A', 'C', 'A', 'D', 'G', 'I', ’L’, ‘ D’]\n",
    "# output = ['x', 'xx', 'xxx', 'xxxx', 'y', 'yy', 'yyy', 'yyyy', 'z', 'zz', 'zzz', 'zzzz']\n",
    "# output = ['x', 'y', 'z', 'xx', 'yy', 'zz', 'xx', 'yy', 'zz', 'xxxx', 'yyyy', 'zzzz']\n",
    "# output = [[2], [3], [4], [3], [4], [5], [4], [5], [6]]\n",
    "# output = [[2, 3, 4, 5], [3, 4, 5, 6], [4, 5, 6, 7], [5, 6, 7, 8]]\n",
    "# output = [(1, 1), (2, 1), (3, 1), (1, 2), (2, 2), (3, 2), (1, 3), (2, 3), (3, 3)]"
   ]
  },
  {
   "cell_type": "code",
   "execution_count": 131,
   "metadata": {},
   "outputs": [
    {
     "name": "stdout",
     "output_type": "stream",
     "text": [
      "['A', 'C', 'A', 'D', 'G', 'I', 'L', 'D']\n",
      "['x', 'xx', 'xxx', 'xxxx', 'y', 'yy', 'yyy', 'yyyy', 'z', 'zz', 'zzz', 'zzzz']\n",
      "['x', 'y', 'z', 'xx', 'yy', 'zz', 'xxx', 'yyy', 'zzz', 'xxxx', 'yyyy', 'zzzz']\n",
      "[[2], [3], [4], [3], [4], [5], [4], [5], [6]]\n",
      "[[2, 3, 4, 5], [3, 4, 5, 6], [4, 5, 6, 7], [5, 6, 7, 8]]\n",
      "[(1, 1), (2, 1), (3, 1), (1, 2), (2, 2), (3, 2), (1, 3), (2, 3), (3, 3)]\n"
     ]
    }
   ],
   "source": [
    "list_1 = ['A', 'C', 'A', 'D', 'G', 'I', 'L','D']\n",
    "print([n for n in list_1])\n",
    "\n",
    "list_1 = ['x', 'y', 'z']\n",
    "print([n * i for n in list_1 for i in range(1,5)])\n",
    "\n",
    "list_1 = ['x', 'y', 'z']\n",
    "print([n * i for n in range(1,5) for i in list_1])\n",
    "\n",
    "list_1 = [[2],[3],[4],[5],[6]]\n",
    "print([[list_1[i][0] + j] for i in range(0,3) for j in range(0,3)])\n",
    "\n",
    "list_1 = [2,3,4,5]\n",
    "print([[k + i for k in list_1] for i in range(0,4)])\n",
    "\n",
    "list_1 = [1, 2, 3]\n",
    "list_2 = [1, 2, 3]\n",
    "print([(l1, l2) for l2 in list_1 for l1 in list_2])"
   ]
  },
  {
   "cell_type": "raw",
   "metadata": {},
   "source": [
    "#3 Implement a function longestWord() that takes a list of words and returns the longest one."
   ]
  },
  {
   "cell_type": "code",
   "execution_count": 132,
   "metadata": {},
   "outputs": [
    {
     "data": {
      "text/plain": [
       "'logest word in the list is : machine learning'"
      ]
     },
     "execution_count": 132,
     "metadata": {},
     "output_type": "execute_result"
    }
   ],
   "source": [
    "#Code\n",
    "def longest_word(word_list):\n",
    "    sorted_word_list = sorted(word_list, key = len)\n",
    "    return 'logest word in the list is : ' + sorted_word_list[-1]\n",
    "\n",
    "# #Execution\n",
    "word_list = ['text','world','country','continent','world cup','machine learning', 'deep learning']\n",
    "\n",
    "longest_word(word_list)"
   ]
  },
  {
   "cell_type": "raw",
   "metadata": {},
   "source": [
    "#Task 2:\n",
    "\n",
    "#1.1 Write a Python Program(with class concepts) to find the area of the triangle using the below formula.\n",
    "\n",
    "area = (s*(s-a)*(s-b)*(s-c)) ** 0.5\n",
    "\n",
    "Function to take the length of the sides of triangle from user should be defined in the parent class and function to calculate the area should be defined in subclass."
   ]
  },
  {
   "cell_type": "code",
   "execution_count": 133,
   "metadata": {},
   "outputs": [
    {
     "name": "stdout",
     "output_type": "stream",
     "text": [
      "Area of Triangle is : 96.0\n"
     ]
    }
   ],
   "source": [
    "class Sides_of_triangle:\n",
    "    \n",
    "    def __init__(self, a, b, c):\n",
    "        self.a = a\n",
    "        self.b = b\n",
    "        self.c = c\n",
    "\n",
    "class Area_of_triangle(Sides_of_triangle):\n",
    "    \n",
    "    def __init__(self, a, b, c):\n",
    "        super().__init__(a,b,c)\n",
    "        \n",
    "    def area(self):\n",
    "        s = ((self.a + self.b + self.c) / 2)\n",
    "        return (s * (s - self.a) * (s - self.b) * (s - self.c)) ** (0.5)\n",
    "\n",
    "a = Area_of_triangle(12,16,20)\n",
    "print('Area of Triangle is :', a.area())"
   ]
  },
  {
   "cell_type": "raw",
   "metadata": {},
   "source": [
    "#1.2 Write a function filter_long_words() that takes a list of words and an integer n and \n",
    "#returns the list of words that are longer than n"
   ]
  },
  {
   "cell_type": "code",
   "execution_count": 134,
   "metadata": {},
   "outputs": [
    {
     "name": "stdout",
     "output_type": "stream",
     "text": [
      "['continent', 'world cup', 'machine learning', 'deep learning']\n"
     ]
    }
   ],
   "source": [
    "#Code\n",
    "def filter_long_words(words_list, max_len):\n",
    "    \n",
    "    words = [n for n in words_list if len(n) > max_len]\n",
    "    print(words)\n",
    "    \n",
    "#Execution\n",
    "words_list = ['text','world','country','continent','world cup','machine learning', 'deep learning']\n",
    "filter_long_words(words_list, 8)"
   ]
  },
  {
   "cell_type": "raw",
   "metadata": {},
   "source": [
    "#2.1 Write a Python program using function concept that maps list of words into a list of integers\n",
    "#representing the lengths of the corresponding words."
   ]
  },
  {
   "cell_type": "code",
   "execution_count": 135,
   "metadata": {},
   "outputs": [
    {
     "name": "stdout",
     "output_type": "stream",
     "text": [
      "[4, 5, 7, 9, 9, 16, 13]\n"
     ]
    }
   ],
   "source": [
    "#Code\n",
    "def word_length(word_list):\n",
    "    final_list = []\n",
    "    for i, j  in enumerate(word_list):\n",
    "        final_list.append(len(j))\n",
    "    print(final_list)\n",
    "\n",
    "#Execution\n",
    "word_list = ['text','world','country','continent','world cup','machine learning', 'deep learning']\n",
    "word_length(word_list)"
   ]
  },
  {
   "cell_type": "raw",
   "metadata": {},
   "source": [
    "#2.2 Write a Python function which takes a character (i.e. a string of length 1) \n",
    "#and returns True if it is a vowel, False otherwise."
   ]
  },
  {
   "cell_type": "code",
   "execution_count": 141,
   "metadata": {},
   "outputs": [
    {
     "name": "stdout",
     "output_type": "stream",
     "text": [
      "True\n"
     ]
    }
   ],
   "source": [
    "\n",
    "#Code\n",
    "def check_vowel(character):\n",
    "    vowels = ['A','E','I','O','U']\n",
    "    \n",
    "    if character.upper() in vowels :\n",
    "        print(True)\n",
    "    else:\n",
    "        print(False)\n",
    "\n",
    "#Execution\n",
    "check_vowel('e')      "
   ]
  },
  {
   "cell_type": "code",
   "execution_count": null,
   "metadata": {},
   "outputs": [],
   "source": []
  }
 ],
 "metadata": {
  "kernelspec": {
   "display_name": "Python 3",
   "language": "python",
   "name": "python3"
  },
  "language_info": {
   "codemirror_mode": {
    "name": "ipython",
    "version": 3
   },
   "file_extension": ".py",
   "mimetype": "text/x-python",
   "name": "python",
   "nbconvert_exporter": "python",
   "pygments_lexer": "ipython3",
   "version": "3.7.4"
  }
 },
 "nbformat": 4,
 "nbformat_minor": 2
}
